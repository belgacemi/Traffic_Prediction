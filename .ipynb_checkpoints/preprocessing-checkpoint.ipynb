{
 "cells": [
  {
   "cell_type": "markdown",
   "metadata": {
    "id": "kDnvhIEWN6Z7"
   },
   "source": [
    "Data Preprocessing\n",
    "\n"
   ]
  },
  {
   "cell_type": "code",
   "execution_count": 83,
   "metadata": {
    "colab": {
     "base_uri": "https://localhost:8080/",
     "height": 142
    },
    "executionInfo": {
     "elapsed": 1128,
     "status": "ok",
     "timestamp": 1607700582217,
     "user": {
      "displayName": "ahmed hajji",
      "photoUrl": "https://lh3.googleusercontent.com/a-/AOh14GhzYSnUAHfGTB7FQQ-fpLpqNSgHwXSdftnKvURC=s64",
      "userId": "07145531380694540097"
     },
     "user_tz": -60
    },
    "id": "ZZDHmjk5Qqs6",
    "outputId": "864231ee-a58a-4436-a5f4-b767861df5f9"
   },
   "outputs": [
    {
     "data": {
      "application/vnd.google.colaboratory.intrinsic+json": {
       "type": "string"
      },
      "text/plain": [
       "'\\nThis notebook is used to preprocess the data gathered from different Data sources and to extract the most useful features.\\n\\nThe data sources used are:\\n- The street traffic csv file. \\n- Temperature and Occupation status of intensive care beds[\"taux_occupation_sae\"] [covid-19 related]\\n- Key dates concerning curfew [\"couvre feu\"] and lockdown [\"confinement\"] status\\n- Key dates regarding holidays\\n\\nThe output features after-preprocessing are:\\n  [\\n    Date et heure de comptage,Débit horaire,Taux d\\'occupation,Etat trafic,Libelle noeud amont,Libelle noeud aval,\\n    date,weekday,weekofyear,month,year,time,tmin,tmax,mean_taux_occupation_past_week,taux_occupation_past_week,\\n    mean_debit_horaire_past_week,debit_horaire_past_week,taux_occupation_sae,confin_0,confin_1,confin_2,couvrefeu,ferie\\n  ]\\n\\nThe notebook is to be used 3 times for each street. After each execution, a new CSV file name <streetname>_edited.csv \\nis created in the folder \"datasets\".\\n\\n'"
      ]
     },
     "execution_count": 83,
     "metadata": {
      "tags": []
     },
     "output_type": "execute_result"
    }
   ],
   "source": [
    "\"\"\"\n",
    "This notebook is used to preprocess the data gathered from different Data sources and to extract the most useful features.\n",
    "\n",
    "The data sources used are:\n",
    "- The street traffic csv file. \n",
    "- Temperature and Occupation status of intensive care beds[\"taux_occupation_sae\"] [covid-19 related]\n",
    "- Key dates concerning curfew [\"couvre feu\"] and lockdown [\"confinement\"] status\n",
    "- Key dates regarding holidays\n",
    "\n",
    "The output features after-preprocessing are:\n",
    "  [\n",
    "    Date et heure de comptage,Débit horaire,Taux d'occupation,Etat trafic,Libelle noeud amont,Libelle noeud aval,\n",
    "    date,weekday,weekofyear,month,year,time,tmin,tmax,mean_taux_occupation_past_week,taux_occupation_past_week,\n",
    "    mean_debit_horaire_past_week,debit_horaire_past_week,taux_occupation_sae,confin_0,confin_1,confin_2,couvrefeu,ferie\n",
    "  ]\n",
    "\n",
    "The notebook is to be used 3 times for each street. After each execution, a new CSV file name <streetname>_edited.csv \n",
    "is created in the folder \"datasets\".\n",
    "\n",
    "\"\"\""
   ]
  },
  {
   "cell_type": "code",
   "execution_count": 84,
   "metadata": {
    "executionInfo": {
     "elapsed": 1604,
     "status": "ok",
     "timestamp": 1607700582725,
     "user": {
      "displayName": "ahmed hajji",
      "photoUrl": "https://lh3.googleusercontent.com/a-/AOh14GhzYSnUAHfGTB7FQQ-fpLpqNSgHwXSdftnKvURC=s64",
      "userId": "07145531380694540097"
     },
     "user_tz": -60
    },
    "id": "xecCOG0VPPRB"
   },
   "outputs": [],
   "source": [
    "import pandas as pd\n",
    "import requests \n",
    "import json\n",
    "from datetime import datetime , timedelta\n",
    "key = \"biXmYSG60H0IuxAdhaZbvGPNDTBPwzoX\"\n",
    "import time"
   ]
  },
  {
   "cell_type": "code",
   "execution_count": 87,
   "metadata": {
    "colab": {
     "base_uri": "https://localhost:8080/"
    },
    "executionInfo": {
     "elapsed": 1569,
     "status": "ok",
     "timestamp": 1607700582735,
     "user": {
      "displayName": "ahmed hajji",
      "photoUrl": "https://lh3.googleusercontent.com/a-/AOh14GhzYSnUAHfGTB7FQQ-fpLpqNSgHwXSdftnKvURC=s64",
      "userId": "07145531380694540097"
     },
     "user_tz": -60
    },
    "id": "6KzZknoHMDRl",
    "outputId": "710e0ce6-ac12-4adf-b229-db297e006aec"
   },
   "outputs": [
    {
     "name": "stdout",
     "output_type": "stream",
     "text": [
      "Street selected: datasets/sts_11_dec.csv\n"
     ]
    }
   ],
   "source": [
    "#file_name = 'datasets/washington_11_dec.csv'\n",
    "#file_name = 'datasets/convention_11_dec.csv'\n",
    "file_name = 'datasets/sts_11_dec.csv'\n",
    "\n",
    "\n",
    "if (file_name == 'datasets/washington_11_dec.csv' ):\n",
    "  save_name = 'datasets/washington_edited.csv'\n",
    "  amont = \"Av_Champs_Elysees-Washington\"\n",
    "  aval = \"Av_Champs_Elysees-Berri\"\n",
    "  print(\"Street selected: {}\".format(file_name) )\n",
    "\n",
    "elif (file_name == 'datasets/convention_11_dec.csv'):\n",
    "  save_name = 'datasets/convention_edited.csv'\n",
    "  amont = \"Lecourbe-Convention\"\n",
    "  aval = \"Convention-Blomet\"\n",
    "  print(\"Street selected: {}\".format(file_name) )\n",
    "\n",
    "elif (file_name == 'datasets/sts_11_dec.csv'):\n",
    "  save_name = 'datasets/sts_edited.csv'\n",
    "  amont = \"Sts_Peres-Voltaire\"\n",
    "  aval = \"Sts_Peres-Universite\"\n",
    "  print(\"Street selected: {}\".format(file_name) )\n",
    "\n",
    "else:\n",
    "    print(\"Wrong street selected!!\" )"
   ]
  },
  {
   "cell_type": "markdown",
   "metadata": {
    "id": "DxlxhFNZ9L9u"
   },
   "source": [
    "Date Features"
   ]
  },
  {
   "cell_type": "code",
   "execution_count": 88,
   "metadata": {
    "executionInfo": {
     "elapsed": 2919,
     "status": "ok",
     "timestamp": 1607700584096,
     "user": {
      "displayName": "ahmed hajji",
      "photoUrl": "https://lh3.googleusercontent.com/a-/AOh14GhzYSnUAHfGTB7FQQ-fpLpqNSgHwXSdftnKvURC=s64",
      "userId": "07145531380694540097"
     },
     "user_tz": -60
    },
    "id": "7rB6esZURHc9"
   },
   "outputs": [],
   "source": [
    "df = pd.read_csv(file_name, sep = \";\")\n",
    "df = df[[\"Date et heure de comptage\",\"Débit horaire\",\"Taux d'occupation\",\"Etat trafic\",\"Libelle noeud amont\",\"Libelle noeud aval\"]]\n",
    "def filter(df,amont,aval):\n",
    "    df = df[df[\"Libelle noeud amont\"]==amont]\n",
    "    df = df[df[\"Libelle noeud aval\"]==aval]\n",
    "    return df\n",
    "\n",
    "def set_date(df):\n",
    "    df[\"Date et heure de comptage\"] = pd.to_datetime(df[\"Date et heure de comptage\"],format='%Y-%m-%dT%H:%M:%S%z')\n",
    "    return df\n",
    "df = filter(df,amont,aval)\n",
    "df = set_date(df)\n",
    "df = df.sort_values(by = \"Date et heure de comptage\")\n",
    "df = df.interpolate() #remove Nan by interpolation\n",
    "df = df.reset_index()\n",
    "df[\"date\"] = [d.date() for d in df[\"Date et heure de comptage\"]]\n",
    "df[\"weekday\"] = [d.weekday() for d in df[\"Date et heure de comptage\"]]\n",
    "df[\"weekofyear\"] = [d.weekofyear for d in df[\"Date et heure de comptage\"]]\n",
    "df[\"month\"] = [d.month for d in df[\"Date et heure de comptage\"]]\n",
    "df[\"year\"] = [d.year for d in df[\"Date et heure de comptage\"]]\n",
    "df[\"time\"] = [d.time() for d in df[\"Date et heure de comptage\"]]\n"
   ]
  },
  {
   "cell_type": "markdown",
   "metadata": {
    "id": "m-ceyb719RkM"
   },
   "source": [
    "Weather Data (Hourly and Daily)"
   ]
  },
  {
   "cell_type": "code",
   "execution_count": 89,
   "metadata": {
    "colab": {
     "base_uri": "https://localhost:8080/",
     "height": 143
    },
    "executionInfo": {
     "elapsed": 2901,
     "status": "ok",
     "timestamp": 1607700584100,
     "user": {
      "displayName": "ahmed hajji",
      "photoUrl": "https://lh3.googleusercontent.com/a-/AOh14GhzYSnUAHfGTB7FQQ-fpLpqNSgHwXSdftnKvURC=s64",
      "userId": "07145531380694540097"
     },
     "user_tz": -60
    },
    "id": "Bb78pSGTkOHG",
    "outputId": "037c3b93-02ea-421f-8588-097c760a2213"
   },
   "outputs": [
    {
     "data": {
      "application/vnd.google.colaboratory.intrinsic+json": {
       "type": "string"
      },
      "text/plain": [
       "'\\ncount = 0\\ntest = True\\nstart = df.loc[0,\"date\"]\\nfin = df.loc[df.index[-1],\"date\"]\\nhd = []\\nwhile test : \\n  print(count)\\n  url = \"https://api.meteostat.net/v2/stations/hourly?station=07157&start=\"+start.strftime(\\'%Y-%m-%d\\')+\"&end=\"+(start+timedelta(9)).strftime(\\'%Y-%m-%d\\')\\n  r = requests.get(url,headers={\\'x-api-key\\':key})\\n  d = json.loads(r.text)\\n  if len(d[\\'data\\']) <10 : \\n    print(\"Problem\")\\n  else :\\n    hd = hd + d[\\'data\\']\\n  start = start + timedelta(9)\\n  if start > fin : \\n    test = False\\n  count = count +1\\n  time.sleep(3)\\nhd = pd.DataFrame.from_records(hd)\\nhd = hd[[\"time\",\"temp\",\"dwpt\",\"rhum\"]]\\nhd[\"time\"] = pd.to_datetime(hd[\"time\"],format=\\'%Y-%m-%d %H:%M:%S\\')\\nhd = hd.sort_values(by = \"time\")\\nhd = hd.drop_duplicates().reset_index(drop = True)\\nhd = hd.interpolate()\\nhd = hd.rename(columns = {\"time\":\"Date et heure de comptage\"})\\nhd[\"date\"] = [d.date() for d in hd[\"Date et heure de comptage\"]]\\nhd[\"time\"] = [d.time() for d in hd[\"Date et heure de comptage\"]]\\ndel hd[\\'Date et heure de comptage\\']\\ndf = pd.merge(df,hd,on =[\\'time\\',\\'date\\'], how = \\'left\\').sort_values(by = \"Date et heure de comptage\")\\n\\n'"
      ]
     },
     "execution_count": 89,
     "metadata": {
      "tags": []
     },
     "output_type": "execute_result"
    }
   ],
   "source": [
    "#  ADD HOURLY DATA\n",
    "\"\"\"\n",
    "count = 0\n",
    "test = True\n",
    "start = df.loc[0,\"date\"]\n",
    "fin = df.loc[df.index[-1],\"date\"]\n",
    "hd = []\n",
    "while test : \n",
    "  print(count)\n",
    "  url = \"https://api.meteostat.net/v2/stations/hourly?station=07157&start=\"+start.strftime('%Y-%m-%d')+\"&end=\"+(start+timedelta(9)).strftime('%Y-%m-%d')\n",
    "  r = requests.get(url,headers={'x-api-key':key})\n",
    "  d = json.loads(r.text)\n",
    "  if len(d['data']) <10 : \n",
    "    print(\"Problem\")\n",
    "  else :\n",
    "    hd = hd + d['data']\n",
    "  start = start + timedelta(9)\n",
    "  if start > fin : \n",
    "    test = False\n",
    "  count = count +1\n",
    "  time.sleep(3)\n",
    "hd = pd.DataFrame.from_records(hd)\n",
    "hd = hd[[\"time\",\"temp\",\"dwpt\",\"rhum\"]]\n",
    "hd[\"time\"] = pd.to_datetime(hd[\"time\"],format='%Y-%m-%d %H:%M:%S')\n",
    "hd = hd.sort_values(by = \"time\")\n",
    "hd = hd.drop_duplicates().reset_index(drop = True)\n",
    "hd = hd.interpolate()\n",
    "hd = hd.rename(columns = {\"time\":\"Date et heure de comptage\"})\n",
    "hd[\"date\"] = [d.date() for d in hd[\"Date et heure de comptage\"]]\n",
    "hd[\"time\"] = [d.time() for d in hd[\"Date et heure de comptage\"]]\n",
    "del hd['Date et heure de comptage']\n",
    "df = pd.merge(df,hd,on =['time','date'], how = 'left').sort_values(by = \"Date et heure de comptage\")\n",
    "\n",
    "\"\"\""
   ]
  },
  {
   "cell_type": "code",
   "execution_count": 90,
   "metadata": {
    "colab": {
     "base_uri": "https://localhost:8080/"
    },
    "executionInfo": {
     "elapsed": 8346,
     "status": "ok",
     "timestamp": 1607700589562,
     "user": {
      "displayName": "ahmed hajji",
      "photoUrl": "https://lh3.googleusercontent.com/a-/AOh14GhzYSnUAHfGTB7FQQ-fpLpqNSgHwXSdftnKvURC=s64",
      "userId": "07145531380694540097"
     },
     "user_tz": -60
    },
    "id": "R_vbwtNIl1Bx",
    "outputId": "1038cd80-2997-4460-8930-a17ebc12fde8"
   },
   "outputs": [
    {
     "name": "stdout",
     "output_type": "stream",
     "text": [
      "0\n",
      "1\n"
     ]
    }
   ],
   "source": [
    "# DAILY DATA\n",
    "count = 0\n",
    "test = True\n",
    "start = df.loc[0,\"date\"]\n",
    "fin = df.loc[df.index[-1],\"date\"]\n",
    "dd = []\n",
    "while test : \n",
    "  print(count)\n",
    "  url = \"https://api.meteostat.net/v2/stations/daily?station=07157&start=\"+start.strftime('%Y-%m-%d')+\"&end=\"+min(start+timedelta(369),fin).strftime('%Y-%m-%d')\n",
    "  r = requests.get(url,headers={'x-api-key':key})\n",
    "  d = json.loads(r.text)\n",
    "  if len(d['data']) <10 : \n",
    "    print(\"Problem\")\n",
    "  else :\n",
    "    dd = dd + d['data']\n",
    "  start = start + timedelta(369)\n",
    "  if start > fin : \n",
    "    test = False\n",
    "  count = count +1\n",
    "  time.sleep(3)\n",
    "dd = pd.DataFrame.from_records(dd)\n",
    "dd[\"date\"] = pd.to_datetime(dd[\"date\"],format='%Y-%m-%d')\n",
    "dd = dd.sort_values(by = \"date\")\n",
    "dd = dd[[\"date\",\"tmin\",\"tmax\"]]\n",
    "dd = dd.interpolate()\n",
    "dd.date = dd.date.apply(lambda x : x.date())\n",
    "df = pd.merge(df,dd,on ='date', how = 'left').sort_values(by = \"Date et heure de comptage\")"
   ]
  },
  {
   "cell_type": "code",
   "execution_count": 91,
   "metadata": {
    "executionInfo": {
     "elapsed": 8329,
     "status": "ok",
     "timestamp": 1607700589563,
     "user": {
      "displayName": "ahmed hajji",
      "photoUrl": "https://lh3.googleusercontent.com/a-/AOh14GhzYSnUAHfGTB7FQQ-fpLpqNSgHwXSdftnKvURC=s64",
      "userId": "07145531380694540097"
     },
     "user_tz": -60
    },
    "id": "173Im-NpZ4XT"
   },
   "outputs": [],
   "source": [
    "df[\"mean_taux_occupation_past_week\"] = df[\"Taux d'occupation\"].rolling(24*7).mean().shift(24*6)\n",
    "df[\"taux_occupation_past_week\"] = df[\"Taux d'occupation\"].shift(24*7)\n",
    "df[\"mean_debit_horaire_past_week\"] = df[\"Débit horaire\"].rolling(24*7).mean().shift(24*6)\n",
    "df[\"debit_horaire_past_week\"] = df[\"Débit horaire\"].shift(24*7)"
   ]
  },
  {
   "cell_type": "code",
   "execution_count": 92,
   "metadata": {
    "executionInfo": {
     "elapsed": 8307,
     "status": "ok",
     "timestamp": 1607700589564,
     "user": {
      "displayName": "ahmed hajji",
      "photoUrl": "https://lh3.googleusercontent.com/a-/AOh14GhzYSnUAHfGTB7FQQ-fpLpqNSgHwXSdftnKvURC=s64",
      "userId": "07145531380694540097"
     },
     "user_tz": -60
    },
    "id": "F0Hc34r4nmwp"
   },
   "outputs": [],
   "source": [
    "indicateur = pd.read_csv('datasets/table-indicateurs-open-data-france.csv')\n",
    "indicateur.drop([\"tx_incid\",\"tx_pos\",\"R\"],axis = 1, inplace =True)\n",
    "indicateur= indicateur.rename(columns ={\"extract_date\" : \"date\"})\n",
    "indicateur['taux_occupation_sae'] = indicateur['taux_occupation_sae'].interpolate()\n",
    "indicateur.date = pd.to_datetime(indicateur[\"date\"],format='%Y-%m-%d')\n",
    "indicateur.date = indicateur.date.apply(lambda x : x.date())\n",
    "indicateur.to_csv('datasets/covid.csv')"
   ]
  },
  {
   "cell_type": "code",
   "execution_count": 93,
   "metadata": {
    "executionInfo": {
     "elapsed": 8294,
     "status": "ok",
     "timestamp": 1607700589565,
     "user": {
      "displayName": "ahmed hajji",
      "photoUrl": "https://lh3.googleusercontent.com/a-/AOh14GhzYSnUAHfGTB7FQQ-fpLpqNSgHwXSdftnKvURC=s64",
      "userId": "07145531380694540097"
     },
     "user_tz": -60
    },
    "id": "Cjxt74B83ndZ"
   },
   "outputs": [],
   "source": [
    "covid =pd.read_csv('datasets/covid.csv')\n",
    "del covid['Unnamed: 0']\n",
    "covid.date = pd.to_datetime(covid[\"date\"],format='%Y-%m-%d')\n",
    "covid.date = covid.date.apply(lambda x : x.date())\n",
    "df = pd.merge(df,covid,on = 'date',how = 'left')\n",
    "z = df[df['taux_occupation_sae'].isna()].index[-2]\n",
    "df.loc[:z,'taux_occupation_sae'] = df.loc[z+1,'taux_occupation_sae']\n",
    "f = df[df['taux_occupation_sae'].isna()].index[-1]\n",
    "df.loc[f:,'taux_occupation_sae'] = df.loc[f-1,'taux_occupation_sae']\n",
    "\n",
    "# Mets à jours RETAIL and Taux d'occupation des lits de réa\n",
    "\n",
    "\n",
    "confi = pd.read_csv('datasets/confinement couvre feu.csv',sep = \";\")\n",
    "confi = pd.concat([pd.get_dummies(confi.confinement, prefix= 'confin'),confi], axis= 1).drop(columns = ['confinement'])\n",
    "confi.date = pd.to_datetime(confi[\"date\"],format='%Y-%m-%d')\n",
    "confi.date = confi.date.apply(lambda x : x.date())\n",
    "df = pd.merge(df,confi,on = 'date',how = 'left') \n",
    "\n",
    "jf = pd.read_csv('datasets/feries.csv')\n",
    "jf.nom_jour_ferie = 1\n",
    "jf = jf.drop(['annee','zone'],axis = 1)\n",
    "jf.date = pd.to_datetime(jf[\"date\"],format='%Y-%m-%d')\n",
    "jf.date = jf.date.apply(lambda x : x.date())\n",
    "jf.rename(columns = {\"nom_jour_ferie\":\"ferie\"}, inplace = True)\n",
    "df = pd.merge(df,jf,on = 'date',how = 'left') \n",
    "df.ferie = df.ferie.fillna(0)\n",
    "df.ferie = df.ferie.apply(lambda x : int(x))\n",
    "df=df[24*7+24*6:].reset_index(drop = True)"
   ]
  },
  {
   "cell_type": "code",
   "execution_count": 94,
   "metadata": {
    "colab": {
     "base_uri": "https://localhost:8080/"
    },
    "executionInfo": {
     "elapsed": 8712,
     "status": "ok",
     "timestamp": 1607700589994,
     "user": {
      "displayName": "ahmed hajji",
      "photoUrl": "https://lh3.googleusercontent.com/a-/AOh14GhzYSnUAHfGTB7FQQ-fpLpqNSgHwXSdftnKvURC=s64",
      "userId": "07145531380694540097"
     },
     "user_tz": -60
    },
    "id": "GVG8v30z_siQ",
    "outputId": "51024ce4-a375-4e7e-b3ba-12dcb4b06969"
   },
   "outputs": [
    {
     "name": "stdout",
     "output_type": "stream",
     "text": [
      "datasets/sts_edited.csv created !\n"
     ]
    }
   ],
   "source": [
    "df.to_csv(save_name)\n",
    "print(\"{} created !\".format(save_name))"
   ]
  },
  {
   "cell_type": "code",
   "execution_count": 95,
   "metadata": {
    "colab": {
     "base_uri": "https://localhost:8080/"
    },
    "executionInfo": {
     "elapsed": 8696,
     "status": "ok",
     "timestamp": 1607700589995,
     "user": {
      "displayName": "ahmed hajji",
      "photoUrl": "https://lh3.googleusercontent.com/a-/AOh14GhzYSnUAHfGTB7FQQ-fpLpqNSgHwXSdftnKvURC=s64",
      "userId": "07145531380694540097"
     },
     "user_tz": -60
    },
    "id": "fd_uwPl3aYE8",
    "outputId": "13d84e2d-4065-48ed-ec0c-81e481d2fadb"
   },
   "outputs": [
    {
     "data": {
      "text/plain": [
       "0       15.2\n",
       "1       15.2\n",
       "2       15.2\n",
       "3       15.2\n",
       "4       15.2\n",
       "        ... \n",
       "9377    58.3\n",
       "9378    58.3\n",
       "9379    58.3\n",
       "9380    58.3\n",
       "9381    58.3\n",
       "Name: taux_occupation_sae, Length: 9382, dtype: float64"
      ]
     },
     "execution_count": 95,
     "metadata": {
      "tags": []
     },
     "output_type": "execute_result"
    }
   ],
   "source": [
    "df[\"taux_occupation_sae\"][:]"
   ]
  }
 ],
 "metadata": {
  "colab": {
   "collapsed_sections": [],
   "name": "preprocessing.ipynb",
   "provenance": []
  },
  "kernelspec": {
   "display_name": "Python 3",
   "language": "python",
   "name": "python3"
  },
  "language_info": {
   "codemirror_mode": {
    "name": "ipython",
    "version": 3
   },
   "file_extension": ".py",
   "mimetype": "text/x-python",
   "name": "python",
   "nbconvert_exporter": "python",
   "pygments_lexer": "ipython3",
   "version": "3.6.8"
  }
 },
 "nbformat": 4,
 "nbformat_minor": 1
}
