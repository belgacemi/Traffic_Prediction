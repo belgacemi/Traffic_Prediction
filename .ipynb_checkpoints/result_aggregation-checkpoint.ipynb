{
 "cells": [
  {
   "cell_type": "code",
   "execution_count": null,
   "metadata": {
    "id": "9nDxQ8nlpooN"
   },
   "outputs": [],
   "source": [
    "\"\"\"\n",
    "This notebook aggregates the 6 intermediate results y_pred_<street>_<target> in one file named output.csv\n",
    "\"\"\""
   ]
  },
  {
   "cell_type": "code",
   "execution_count": 1,
   "metadata": {
    "executionInfo": {
     "elapsed": 963,
     "status": "ok",
     "timestamp": 1607703828520,
     "user": {
      "displayName": "ahmed hajji",
      "photoUrl": "https://lh3.googleusercontent.com/a-/AOh14GhzYSnUAHfGTB7FQQ-fpLpqNSgHwXSdftnKvURC=s64",
      "userId": "07145531380694540097"
     },
     "user_tz": -60
    },
    "id": "s_FO3dFdfrRg"
   },
   "outputs": [],
   "source": [
    "import pandas as pd"
   ]
  },
  {
   "cell_type": "code",
   "execution_count": 4,
   "metadata": {
    "executionInfo": {
     "elapsed": 887,
     "status": "ok",
     "timestamp": 1607703828525,
     "user": {
      "displayName": "ahmed hajji",
      "photoUrl": "https://lh3.googleusercontent.com/a-/AOh14GhzYSnUAHfGTB7FQQ-fpLpqNSgHwXSdftnKvURC=s64",
      "userId": "07145531380694540097"
     },
     "user_tz": -60
    },
    "id": "HnZyKI0ifzy-"
   },
   "outputs": [],
   "source": [
    "street1 = [\"result_pred_washington_Taux d'occupation.csv\", \"result_pred_washington_Débit horaire.csv\"]\n",
    "street2 = [\"result_pred_convention_Taux d'occupation.csv\", \"result_pred_convention_Débit horaire.csv\"]\n",
    "street3 = [\"result_pred_sts_Taux d'occupation.csv\", \"result_pred_sts_Débit horaire.csv\"]\n",
    "arcs = [\"Washington\", \"Convention\", \"Sts\"]\n",
    "streets = [street1 , street2, street3]"
   ]
  },
  {
   "cell_type": "code",
   "execution_count": 5,
   "metadata": {
    "executionInfo": {
     "elapsed": 2326,
     "status": "ok",
     "timestamp": 1607703829969,
     "user": {
      "displayName": "ahmed hajji",
      "photoUrl": "https://lh3.googleusercontent.com/a-/AOh14GhzYSnUAHfGTB7FQQ-fpLpqNSgHwXSdftnKvURC=s64",
      "userId": "07145531380694540097"
     },
     "user_tz": -60
    },
    "id": "dPIrkIF8hLaG"
   },
   "outputs": [],
   "source": [
    "count = -1\n",
    "aggre = []\n",
    "for street in streets: \n",
    "  count = count + 1 \n",
    "  a = pd.read_csv(street[0])\n",
    "  del a[\"Unnamed: 0\"]\n",
    "  a = a.rename(columns={\"Date et heure de comptage\": \"Datetime\"})\n",
    "  a[\"Arc\"] = arcs[count]\n",
    "  \n",
    "  b= pd.read_csv(street[1])\n",
    "  del b[\"Unnamed: 0\"]\n",
    "  b = b.rename(columns={\"Date et heure de comptage\": \"Datetime\"})\n",
    "  c=pd.merge(a,b,on=\"Datetime\")\n",
    "  aggre.append(c)\n",
    "df = pd.concat(aggre)\n",
    "df = df.reset_index()\n",
    "del df['index']\n",
    "df = df[['Arc','Datetime', 'Débit horaire', \"Taux d'occupation\"]]\n",
    "df.to_csv(\"output.csv\")"
   ]
  },
  {
   "cell_type": "code",
   "execution_count": 5,
   "metadata": {
    "executionInfo": {
     "elapsed": 2326,
     "status": "ok",
     "timestamp": 1607703829973,
     "user": {
      "displayName": "ahmed hajji",
      "photoUrl": "https://lh3.googleusercontent.com/a-/AOh14GhzYSnUAHfGTB7FQQ-fpLpqNSgHwXSdftnKvURC=s64",
      "userId": "07145531380694540097"
     },
     "user_tz": -60
    },
    "id": "5OikTstRheKj"
   },
   "outputs": [],
   "source": []
  }
 ],
 "metadata": {
  "colab": {
   "authorship_tag": "ABX9TyMoR06XFy870cXqED6g8yeA",
   "collapsed_sections": [],
   "mount_file_id": "10_-C8ba7p9f-y-AWNYfhSxLPavlPBkoT",
   "name": "result_aggregation.ipynb",
   "provenance": []
  },
  "kernelspec": {
   "display_name": "Python 3",
   "language": "python",
   "name": "python3"
  },
  "language_info": {
   "codemirror_mode": {
    "name": "ipython",
    "version": 3
   },
   "file_extension": ".py",
   "mimetype": "text/x-python",
   "name": "python",
   "nbconvert_exporter": "python",
   "pygments_lexer": "ipython3",
   "version": "3.6.8"
  }
 },
 "nbformat": 4,
 "nbformat_minor": 1
}
