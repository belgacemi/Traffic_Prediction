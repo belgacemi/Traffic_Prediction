{
 "cells": [
  {
   "cell_type": "code",
   "execution_count": 56,
   "metadata": {
    "colab": {
     "base_uri": "https://localhost:8080/",
     "height": 53
    },
    "executionInfo": {
     "elapsed": 1026,
     "status": "ok",
     "timestamp": 1607703790231,
     "user": {
      "displayName": "ahmed hajji",
      "photoUrl": "https://lh3.googleusercontent.com/a-/AOh14GhzYSnUAHfGTB7FQQ-fpLpqNSgHwXSdftnKvURC=s64",
      "userId": "07145531380694540097"
     },
     "user_tz": -60
    },
    "id": "cdB_JIqEgpKQ",
    "outputId": "03f27051-4fa2-47e7-a7ca-18b50ceed890"
   },
   "outputs": [
    {
     "data": {
      "application/vnd.google.colaboratory.intrinsic+json": {
       "type": "string"
      },
      "text/plain": [
       "'\\nThis notebook is used to predict the results for a given street and a given target. \\nAt the end, a csv file named result_pred_<street>_<target>.csv will be generated.\\n[E.g. result_pred_wahington_taux_occupation.csv]\\n\\nThe notebook is to be 6 times (3 streets * 2 targets).\\n'"
      ]
     },
     "execution_count": 56,
     "metadata": {
      "tags": []
     },
     "output_type": "execute_result"
    }
   ],
   "source": [
    "\"\"\"\n",
    "This notebook is used to predict the results for a given street and a given target. \n",
    "At the end, a csv file named result_pred_<street>_<target>.csv will be generated.\n",
    "[E.g. result_pred_wahington_taux_occupation.csv]\n",
    "\n",
    "The notebook is to be 6 times (3 streets * 2 targets).\n",
    "\"\"\""
   ]
  },
  {
   "cell_type": "code",
   "execution_count": 57,
   "metadata": {
    "executionInfo": {
     "elapsed": 1000,
     "status": "ok",
     "timestamp": 1607703790234,
     "user": {
      "displayName": "ahmed hajji",
      "photoUrl": "https://lh3.googleusercontent.com/a-/AOh14GhzYSnUAHfGTB7FQQ-fpLpqNSgHwXSdftnKvURC=s64",
      "userId": "07145531380694540097"
     },
     "user_tz": -60
    },
    "id": "TUIhJOHnXP2R"
   },
   "outputs": [],
   "source": [
    "import numpy as np\n",
    "import pandas as pd\n",
    "import matplotlib.pyplot as plt\n",
    "import datetime\n",
    "from sklearn import preprocessing\n",
    "from sklearn.metrics import mean_squared_error\n",
    "import time\n",
    "import os\n",
    "import tqdm.notebook as tq\n",
    "import tensorflow as tf\n",
    "import warnings\n",
    "import matplotlib.image as mpimg\n",
    "warnings.filterwarnings('ignore')\n",
    "from sklearn.ensemble import RandomForestRegressor"
   ]
  },
  {
   "cell_type": "code",
   "execution_count": 60,
   "metadata": {
    "colab": {
     "base_uri": "https://localhost:8080/"
    },
    "executionInfo": {
     "elapsed": 964,
     "status": "ok",
     "timestamp": 1607703790241,
     "user": {
      "displayName": "ahmed hajji",
      "photoUrl": "https://lh3.googleusercontent.com/a-/AOh14GhzYSnUAHfGTB7FQQ-fpLpqNSgHwXSdftnKvURC=s64",
      "userId": "07145531380694540097"
     },
     "user_tz": -60
    },
    "id": "N8zeSrUcW8D0",
    "outputId": "2af884e5-aab6-4001-c300-ab058e04cca7"
   },
   "outputs": [
    {
     "name": "stdout",
     "output_type": "stream",
     "text": [
      "Street selected: sts\n"
     ]
    }
   ],
   "source": [
    "#street = 'washington'\n",
    "#street = 'convention'\n",
    "street = 'sts'\n",
    "\n",
    "#TARGET = \"Taux d'occupation\"\n",
    "TARGET = \"Débit horaire\"\n",
    "\n",
    "\n",
    "if (street == 'washington' ):\n",
    "  data_path = \"datasets/washington_edited.csv\"\n",
    "  data_x_pred = \"x_pred_washington.csv\"\n",
    "  result_pred = \"result_pred_washington_\"+ TARGET + \".csv\"\n",
    "  print(\"Street selected: {}\".format(street) )\n",
    "\n",
    "elif (street == 'convention'):\n",
    "  data_path = \"datasets/convention_edited.csv\"\n",
    "  data_x_pred = \"x_pred_convention.csv\"\n",
    "  result_pred = \"result_pred_convention_\"+ TARGET + \".csv\"\n",
    "  print(\"Street selected: {}\".format(street) )\n",
    "\n",
    "elif (street == 'sts'):\n",
    "  data_path = \"datasets/sts_edited.csv\"\n",
    "  data_x_pred = \"x_pred_sts.csv\"\n",
    "  result_pred = \"result_pred_sts_\"+ TARGET + \".csv\"\n",
    "  print(\"Street selected: {}\".format(street) )\n",
    "\n",
    "else:\n",
    "    print(\"Wrong street selected!!\" )"
   ]
  },
  {
   "cell_type": "code",
   "execution_count": 61,
   "metadata": {
    "executionInfo": {
     "elapsed": 946,
     "status": "ok",
     "timestamp": 1607703790243,
     "user": {
      "displayName": "ahmed hajji",
      "photoUrl": "https://lh3.googleusercontent.com/a-/AOh14GhzYSnUAHfGTB7FQQ-fpLpqNSgHwXSdftnKvURC=s64",
      "userId": "07145531380694540097"
     },
     "user_tz": -60
    },
    "id": "mvIPL3WuW78O"
   },
   "outputs": [],
   "source": [
    "# Sepearate features to use in combinations later\n",
    "\"\"\"\n",
    "feat_time = ['weekday','weekofyear', 'month', 'year', 'time']\n",
    "feat_meteo_d = ['tmin', 'tmax']\n",
    "feat_conf_fer = ['confin_0','confin_1', 'confin_2', 'couvrefeu', 'ferie']\n",
    "feat_mean = ['mean_taux_occupation_past_week'] if TARGET ==\"Taux d'occupation\" else ['mean_debit_horaire_past_week']\n",
    "feat_covid = ['taux_occupation_sae']\n",
    "\"\"\"\n",
    "\n",
    "# Set Hyperparameters & Features\n",
    "used_features = ['weekday', 'weekofyear', 'month', 'year', 'time', 'mean_debit_horaire_past_week', 'tmin', 'tmax', 'confin_0', 'confin_1', 'confin_2', 'couvrefeu', 'ferie']\n",
    "leaf = 5"
   ]
  },
  {
   "cell_type": "markdown",
   "metadata": {
    "id": "ntElBW1JWsLM"
   },
   "source": [
    "- Train final model on the hyperparameters & experiments chosen\n",
    "- Train on the entire dataset now \n",
    "- Predict on the x_pred built with the notebook \"prepare_x_pred.ipynb\""
   ]
  },
  {
   "cell_type": "code",
   "execution_count": 62,
   "metadata": {
    "executionInfo": {
     "elapsed": 940,
     "status": "ok",
     "timestamp": 1607703790246,
     "user": {
      "displayName": "ahmed hajji",
      "photoUrl": "https://lh3.googleusercontent.com/a-/AOh14GhzYSnUAHfGTB7FQQ-fpLpqNSgHwXSdftnKvURC=s64",
      "userId": "07145531380694540097"
     },
     "user_tz": -60
    },
    "id": "EcLxwBeJW7xn"
   },
   "outputs": [],
   "source": [
    "def set_date(df):\n",
    "  df[\"Date et heure de comptage\"] = pd.to_datetime(df[\"Date et heure de comptage\"],format='%Y-%m-%d %H:%M:%S%z')\n",
    "  return df"
   ]
  },
  {
   "cell_type": "code",
   "execution_count": 63,
   "metadata": {
    "executionInfo": {
     "elapsed": 3932,
     "status": "ok",
     "timestamp": 1607703793253,
     "user": {
      "displayName": "ahmed hajji",
      "photoUrl": "https://lh3.googleusercontent.com/a-/AOh14GhzYSnUAHfGTB7FQQ-fpLpqNSgHwXSdftnKvURC=s64",
      "userId": "07145531380694540097"
     },
     "user_tz": -60
    },
    "id": "jZ-1mDfaWX3c"
   },
   "outputs": [],
   "source": [
    "x_pred = pd.read_csv(data_x_pred)   \n",
    "dataframe = pd.read_csv(data_path)\n",
    "\n",
    "# Do preprocessing\n",
    "dataframe.drop([\"Unnamed: 0\",\"index\"], axis = 1 , inplace= True)\n",
    "dataframe = set_date(dataframe)\n",
    "dataframe.time = dataframe.time.apply(lambda x : int(x[:2]))\n",
    "\n",
    "x_pred.drop([\"Unnamed: 0\"], axis = 1 , inplace= True)\n",
    "x_pred = set_date(x_pred)\n",
    "x_pred.time = x_pred.time.apply(lambda x : int(x[:2]))\n",
    "#x_pred.taux_occupation_sae = x_pred.taux_occupation_sae.apply(lambda x : float(x))\n",
    "\n",
    "if TARGET == \"Taux d'occupation\" : \n",
    "  x_pred.drop(['mean_debit_horaire_past_week'],axis = 1, inplace = True)\n",
    "else : \n",
    "  x_pred.drop(['mean_taux_occupation_past_week'],axis = 1, inplace = True)\n",
    "\n",
    "x_test = x_pred[used_features].values\n",
    "\n",
    "if TARGET == \"Taux d'occupation\": \n",
    "  dataframe.drop([\"Débit horaire\",\"mean_debit_horaire_past_week\",\"debit_horaire_past_week\"], axis = 1 , inplace= True)\n",
    "else : \n",
    "  dataframe.drop([\"Taux d'occupation\",\"mean_taux_occupation_past_week\",\"taux_occupation_past_week\"], axis = 1 , inplace= True)\n",
    "dataframe.drop([\"Etat trafic\",\"Libelle noeud amont\",\"Libelle noeud aval\",\"date\"], axis = 1 , inplace= True)\n",
    "dataframe = dataframe.interpolate() #get rid of NaN values\n",
    "\n",
    "\n",
    "x_train =  dataframe[used_features].values\n",
    "y_train = dataframe[TARGET].values\n",
    "\n",
    "\n",
    "\n",
    "model = RandomForestRegressor(min_samples_leaf=leaf)\n",
    "model.fit(x_train,y_train)\n",
    "pred = model.predict(x_test)\n",
    "\n",
    "df = x_pred[[\"Date et heure de comptage\"]]\n",
    "df[TARGET] = pred\n",
    "df.to_csv(result_pred)\n",
    "\n"
   ]
  },
  {
   "cell_type": "code",
   "execution_count": 64,
   "metadata": {
    "colab": {
     "base_uri": "https://localhost:8080/"
    },
    "executionInfo": {
     "elapsed": 3927,
     "status": "ok",
     "timestamp": 1607703793261,
     "user": {
      "displayName": "ahmed hajji",
      "photoUrl": "https://lh3.googleusercontent.com/a-/AOh14GhzYSnUAHfGTB7FQQ-fpLpqNSgHwXSdftnKvURC=s64",
      "userId": "07145531380694540097"
     },
     "user_tz": -60
    },
    "id": "I-5FEbEfy9g8",
    "outputId": "7b891acb-175a-457a-ca24-4a8d571b566c"
   },
   "outputs": [
    {
     "name": "stdout",
     "output_type": "stream",
     "text": [
      "result_pred_sts_Débit horaire.csv created\n"
     ]
    }
   ],
   "source": [
    "print(\"{} created\".format(result_pred) )"
   ]
  }
 ],
 "metadata": {
  "colab": {
   "authorship_tag": "ABX9TyN6sqSIuw1yVYIFC12x0knu",
   "collapsed_sections": [],
   "name": "predict_result.ipynb",
   "provenance": []
  },
  "kernelspec": {
   "display_name": "Python 3",
   "language": "python",
   "name": "python3"
  },
  "language_info": {
   "codemirror_mode": {
    "name": "ipython",
    "version": 3
   },
   "file_extension": ".py",
   "mimetype": "text/x-python",
   "name": "python",
   "nbconvert_exporter": "python",
   "pygments_lexer": "ipython3",
   "version": "3.6.8"
  }
 },
 "nbformat": 4,
 "nbformat_minor": 1
}
