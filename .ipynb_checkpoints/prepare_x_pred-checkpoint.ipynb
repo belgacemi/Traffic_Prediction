{
 "cells": [
  {
   "cell_type": "code",
   "execution_count": 56,
   "metadata": {
    "colab": {
     "base_uri": "https://localhost:8080/",
     "height": 107
    },
    "executionInfo": {
     "elapsed": 1157,
     "status": "ok",
     "timestamp": 1607703550143,
     "user": {
      "displayName": "ahmed hajji",
      "photoUrl": "https://lh3.googleusercontent.com/a-/AOh14GhzYSnUAHfGTB7FQQ-fpLpqNSgHwXSdftnKvURC=s64",
      "userId": "07145531380694540097"
     },
     "user_tz": -60
    },
    "id": "IxgembVpUB6c",
    "outputId": "15d305ba-788a-410c-9199-79f00e3f0181"
   },
   "outputs": [
    {
     "data": {
      "application/vnd.google.colaboratory.intrinsic+json": {
       "type": "string"
      },
      "text/plain": [
       "'\\nThis notebook is used to prepare the x_pred_<streetname>.csv file that is needed later on for the prediction of result.\\n\\nThe data sources used are:\\n- The street traffic csv file. \\n- Temperature and Occupation status of intensive care beds[\"taux_occupation_sae\"] [covid-19 related]\\n- Key dates concerning curfew [\"couvre feu\"] and lockdown [\"confinement\"] status\\n- Key dates regarding holidays\\n\\nThe output features after-preprocessing are:\\n[\\n  Date et heure de comptage,mean_taux_occupation_past_week,mean_debit_horaire_past_week,date,weekday,weekofyear,month,year,\\n  time,tmin,tmax,taux_occupation_sae,confin_0,confin_1,confin_2,couvrefeu,ferie\\n]\\n\\nThe notebook is to be used 3 times for each street. After each execution, a new CSV file name x_pred_<streetname>.csv \\nis created.\\n\\n'"
      ]
     },
     "execution_count": 56,
     "metadata": {
      "tags": []
     },
     "output_type": "execute_result"
    }
   ],
   "source": [
    "\"\"\"\n",
    "This notebook is used to prepare the x_pred_<streetname>.csv file that is needed later on for the prediction of result.\n",
    "\n",
    "The data sources used are:\n",
    "- The street traffic csv file. \n",
    "- Temperature and Occupation status of intensive care beds[\"taux_occupation_sae\"] [covid-19 related]\n",
    "- Key dates concerning curfew [\"couvre feu\"] and lockdown [\"confinement\"] status\n",
    "- Key dates regarding holidays\n",
    "\n",
    "The output features after-preprocessing are:\n",
    "[\n",
    "  Date et heure de comptage,mean_taux_occupation_past_week,mean_debit_horaire_past_week,date,weekday,weekofyear,month,year,\n",
    "  time,tmin,tmax,taux_occupation_sae,confin_0,confin_1,confin_2,couvrefeu,ferie\n",
    "]\n",
    "\n",
    "The notebook is to be used 3 times for each street. After each execution, a new CSV file name x_pred_<streetname>.csv \n",
    "is created.\n",
    "\n",
    "\"\"\""
   ]
  },
  {
   "cell_type": "code",
   "execution_count": 57,
   "metadata": {
    "executionInfo": {
     "elapsed": 1129,
     "status": "ok",
     "timestamp": 1607703550148,
     "user": {
      "displayName": "ahmed hajji",
      "photoUrl": "https://lh3.googleusercontent.com/a-/AOh14GhzYSnUAHfGTB7FQQ-fpLpqNSgHwXSdftnKvURC=s64",
      "userId": "07145531380694540097"
     },
     "user_tz": -60
    },
    "id": "kNGhIK4bxr8q"
   },
   "outputs": [],
   "source": [
    "import pandas as pd\n",
    "import requests \n",
    "import json\n",
    "from datetime import datetime , timedelta\n",
    "import time"
   ]
  },
  {
   "cell_type": "code",
   "execution_count": 60,
   "metadata": {
    "colab": {
     "base_uri": "https://localhost:8080/"
    },
    "executionInfo": {
     "elapsed": 1077,
     "status": "ok",
     "timestamp": 1607703550151,
     "user": {
      "displayName": "ahmed hajji",
      "photoUrl": "https://lh3.googleusercontent.com/a-/AOh14GhzYSnUAHfGTB7FQQ-fpLpqNSgHwXSdftnKvURC=s64",
      "userId": "07145531380694540097"
     },
     "user_tz": -60
    },
    "id": "9caaCB9Xx2XP",
    "outputId": "c3825e4d-b0cb-4cce-9cc9-fba6d310c6cf"
   },
   "outputs": [
    {
     "name": "stdout",
     "output_type": "stream",
     "text": [
      "Street selected: sts\n"
     ]
    }
   ],
   "source": [
    "#street = 'washington'\n",
    "#street = 'convention'\n",
    "street = 'sts'\n",
    "\n",
    "template_x_pred = \"template_x_pred.csv\"\n",
    "\n",
    "if (street == 'washington' ):\n",
    "  path_data = 'datasets/washington_edited.csv'\n",
    "  save_name_x_predict = 'x_pred_washington.csv'\n",
    "  print(\"Street selected: {}\".format(street) )\n",
    "\n",
    "elif (street == 'convention'):\n",
    "  path_data = 'datasets/convention_edited.csv'\n",
    "  save_name_x_predict = 'x_pred_convention.csv'\n",
    "  print(\"Street selected: {}\".format(street) )\n",
    "\n",
    "elif (street == 'sts'):\n",
    "  path_data = 'datasets/sts_edited.csv'\n",
    "  save_name_x_predict = 'x_pred_sts.csv'\n",
    "  print(\"Street selected: {}\".format(street) )\n",
    "\n",
    "else:\n",
    "    print(\"Wrong street selected!!\" )"
   ]
  },
  {
   "cell_type": "code",
   "execution_count": 61,
   "metadata": {
    "executionInfo": {
     "elapsed": 1053,
     "status": "ok",
     "timestamp": 1607703550152,
     "user": {
      "displayName": "ahmed hajji",
      "photoUrl": "https://lh3.googleusercontent.com/a-/AOh14GhzYSnUAHfGTB7FQQ-fpLpqNSgHwXSdftnKvURC=s64",
      "userId": "07145531380694540097"
     },
     "user_tz": -60
    },
    "id": "_JbMsTwjw7UO"
   },
   "outputs": [],
   "source": [
    "def set_date(df):\n",
    "  df[\"Date et heure de comptage\"] = pd.to_datetime(df[\"Date et heure de comptage\"],format='%Y-%m-%d %H:%M:%S%z')\n",
    "  return df"
   ]
  },
  {
   "cell_type": "code",
   "execution_count": 62,
   "metadata": {
    "executionInfo": {
     "elapsed": 1344,
     "status": "ok",
     "timestamp": 1607703550453,
     "user": {
      "displayName": "ahmed hajji",
      "photoUrl": "https://lh3.googleusercontent.com/a-/AOh14GhzYSnUAHfGTB7FQQ-fpLpqNSgHwXSdftnKvURC=s64",
      "userId": "07145531380694540097"
     },
     "user_tz": -60
    },
    "id": "iCH70IMMx6fE"
   },
   "outputs": [],
   "source": [
    "DATE_LAST_WEEK = '2020-12-05'\n",
    "df1 = pd.read_csv(path_data)\n",
    "del df1['Unnamed: 0']\n",
    "df2 = pd.read_csv(template_x_pred, sep=';')\n",
    "df2.date = pd.to_datetime(df2[\"date\"],format='%Y-%m-%d')\n",
    "df2.date = df2.date.apply(lambda x : x.date())\n",
    "\n",
    "nbr_days_to_predict = 6\n",
    "df1 = df1[:-1]\n",
    "wdf1 = df1[-7*24:] # last 7 days\n",
    "ddf1 = df1[-nbr_days_to_predict*24:]\n",
    "\n",
    "mean_debit_horaire_past_week = wdf1[\"Débit horaire\"].mean()\n",
    "mean_taux_occupation_past_week = wdf1[\"Taux d'occupation\"].mean()\n",
    "first_day = df1[df1[\"date\"] == DATE_LAST_WEEK].reset_index(drop = True)[[\"Date et heure de comptage\"]]\n",
    "first_day = set_date(first_day)\n",
    "first_day[\"Date et heure de comptage\"] = first_day[\"Date et heure de comptage\"].apply(lambda x: x+timedelta(6))\n",
    "days = []\n",
    "for i in range(6) : \n",
    "  day = first_day.copy()\n",
    "  day[\"Date et heure de comptage\"] = first_day[\"Date et heure de comptage\"].apply(lambda x: x+timedelta(i))\n",
    "  days.append(day)\n",
    "ddf1 = pd.concat(days).reset_index(drop = True)\n",
    "\n",
    "ddf1[\"date\"] = [d.date() for d in ddf1[\"Date et heure de comptage\"]]\n",
    "ddf1[\"weekday\"] = [d.weekday() for d in ddf1[\"Date et heure de comptage\"]]\n",
    "ddf1[\"weekofyear\"] = [d.weekofyear for d in ddf1[\"Date et heure de comptage\"]]\n",
    "ddf1[\"month\"] = [d.month for d in ddf1[\"Date et heure de comptage\"]]\n",
    "ddf1[\"year\"] = [d.year for d in ddf1[\"Date et heure de comptage\"]]\n",
    "ddf1[\"time\"] = [d.time() for d in ddf1[\"Date et heure de comptage\"]]\n",
    "ddf1['mean_debit_horaire_past_week'] = mean_debit_horaire_past_week\n",
    "ddf1[\"mean_taux_occupation_past_week\"] = mean_taux_occupation_past_week\n",
    "ddf1.reset_index(inplace=True)\n",
    "del ddf1['index']\n",
    "\n",
    "ddf1 = pd.merge(ddf1,df2,on = 'date',how = 'left')\n",
    "\n",
    "confi = pd.read_csv('datasets/confinement couvre feu.csv',sep = \";\")\n",
    "confi = pd.concat([pd.get_dummies(confi.confinement, prefix= 'confin'),confi], axis= 1).drop(columns = ['confinement'])\n",
    "confi.date = pd.to_datetime(confi[\"date\"],format='%Y-%m-%d')\n",
    "confi.date = confi.date.apply(lambda x : x.date())\n",
    "ddf1 = pd.merge(ddf1,confi,on = 'date',how = 'left') \n",
    "\n",
    "jf = pd.read_csv('datasets/feries.csv')\n",
    "jf.nom_jour_ferie = 1\n",
    "jf = jf.drop(['annee','zone'],axis = 1)\n",
    "jf.date = pd.to_datetime(jf[\"date\"],format='%Y-%m-%d')\n",
    "jf.date = jf.date.apply(lambda x : x.date())\n",
    "jf.rename(columns = {\"nom_jour_ferie\":\"ferie\"}, inplace = True)\n",
    "ddf1 = pd.merge(ddf1,jf,on = 'date',how = 'left') \n",
    "ddf1.ferie = ddf1.ferie.fillna(0)\n",
    "ddf1.ferie = ddf1.ferie.apply(lambda x : int(x))\n",
    "\n",
    "ddf1.to_csv(save_name_x_predict)"
   ]
  },
  {
   "cell_type": "code",
   "execution_count": 66,
   "metadata": {
    "colab": {
     "base_uri": "https://localhost:8080/"
    },
    "executionInfo": {
     "elapsed": 1289,
     "status": "ok",
     "timestamp": 1607703550461,
     "user": {
      "displayName": "ahmed hajji",
      "photoUrl": "https://lh3.googleusercontent.com/a-/AOh14GhzYSnUAHfGTB7FQQ-fpLpqNSgHwXSdftnKvURC=s64",
      "userId": "07145531380694540097"
     },
     "user_tz": -60
    },
    "id": "qi-RuJkA3nla",
    "outputId": "4f9d6c3a-a436-4dd3-a44d-11b99b1b99ae"
   },
   "outputs": [
    {
     "name": "stdout",
     "output_type": "stream",
     "text": [
      "x_pred_sts.csv created \n"
     ]
    }
   ],
   "source": [
    "print(\"{} created \".format(save_name_x_predict))"
   ]
  },
  {
   "cell_type": "code",
   "execution_count": 66,
   "metadata": {
    "executionInfo": {
     "elapsed": 1275,
     "status": "ok",
     "timestamp": 1607703550463,
     "user": {
      "displayName": "ahmed hajji",
      "photoUrl": "https://lh3.googleusercontent.com/a-/AOh14GhzYSnUAHfGTB7FQQ-fpLpqNSgHwXSdftnKvURC=s64",
      "userId": "07145531380694540097"
     },
     "user_tz": -60
    },
    "id": "h53jGS68-UWi"
   },
   "outputs": [],
   "source": []
  }
 ],
 "metadata": {
  "colab": {
   "collapsed_sections": [],
   "name": "prepare_x_pred.ipynb",
   "provenance": []
  },
  "kernelspec": {
   "display_name": "Python 3",
   "language": "python",
   "name": "python3"
  },
  "language_info": {
   "codemirror_mode": {
    "name": "ipython",
    "version": 3
   },
   "file_extension": ".py",
   "mimetype": "text/x-python",
   "name": "python",
   "nbconvert_exporter": "python",
   "pygments_lexer": "ipython3",
   "version": "3.6.8"
  }
 },
 "nbformat": 4,
 "nbformat_minor": 1
}
